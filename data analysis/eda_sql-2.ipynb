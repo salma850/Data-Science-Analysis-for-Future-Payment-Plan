{
 "cells": [
  {
   "cell_type": "code",
   "execution_count": 1,
   "metadata": {},
   "outputs": [],
   "source": [
    "import sqlite3\n",
    "import matplotlib.pyplot as plt\n",
    "import pandas as pd\n",
    "connection = sqlite3.connect('data_db.db')"
   ]
  },
  {
   "cell_type": "markdown",
   "metadata": {},
   "source": [
    "# QUESTIONS:\n",
    "- 1-How many customers are expected to churn and how many of them are not?\n",
    "- 2-How many customers are having electricity, gas or both?\n",
    "- 3-How is the contract type related churn?\n",
    "- 4-Which channel sales has the most churn percentage\n",
    "- 5-What is the average consumption for the last year?\n",
    "- 6-what is the average forecasted consupmtion for the upcoming year?\n",
    "- 7-what is the average price off peak , mid peak and peak for 2015?\n",
    "- 8-what is the average forcasted price for the upcoming year?\n",
    "- 9-what is the average net margin?\n",
    "- 10-what is the correlation between the year and churn?\n",
    "- 11-How is years of antiquity related to churn?\n",
    "\n",
    "> We will answer these questions that might help us in visualzing and analyzing the data.\n",
    "\n"
   ]
  },
  {
   "cell_type": "markdown",
   "metadata": {},
   "source": [
    "### 1-How many customers are expected to churn and how many of them are not?\n"
   ]
  },
  {
   "cell_type": "code",
   "execution_count": 2,
   "metadata": {},
   "outputs": [
    {
     "data": {
      "text/plain": [
       "[(13187,)]"
      ]
     },
     "execution_count": 2,
     "metadata": {},
     "output_type": "execute_result"
    }
   ],
   "source": [
    "sql=\"select count(id) from df where churn='0'\"\n",
    "cursor= connection.execute(sql)\n",
    "cursor.fetchall()\n"
   ]
  },
  {
   "cell_type": "code",
   "execution_count": 3,
   "metadata": {},
   "outputs": [
    {
     "data": {
      "text/plain": [
       "[(1419,)]"
      ]
     },
     "execution_count": 3,
     "metadata": {},
     "output_type": "execute_result"
    }
   ],
   "source": [
    "sql=\"select count(id) from df where churn='1'\"\n",
    "cursor= connection.execute(sql)\n",
    "cursor.fetchall()"
   ]
  },
  {
   "cell_type": "markdown",
   "metadata": {},
   "source": [
    "### 2-How many customers are having electricity, gas or both?\n"
   ]
  },
  {
   "cell_type": "code",
   "execution_count": 4,
   "metadata": {},
   "outputs": [
    {
     "data": {
      "text/plain": [
       "[(18,)]"
      ]
     },
     "execution_count": 4,
     "metadata": {},
     "output_type": "execute_result"
    }
   ],
   "source": [
    "sql=\"select count(id) from df where has_gas='t' and cons_12m = 0\"\n",
    "cursor= connection.execute(sql)\n",
    "cursor.fetchall()"
   ]
  },
  {
   "cell_type": "code",
   "execution_count": 5,
   "metadata": {},
   "outputs": [
    {
     "data": {
      "text/plain": [
       "[(11955,)]"
      ]
     },
     "execution_count": 5,
     "metadata": {},
     "output_type": "execute_result"
    }
   ],
   "source": [
    "sql=\"select count(id) from df where has_gas='f'\"\n",
    "cursor= connection.execute(sql)\n",
    "cursor.fetchall()"
   ]
  },
  {
   "cell_type": "code",
   "execution_count": 6,
   "metadata": {},
   "outputs": [
    {
     "data": {
      "text/plain": [
       "[(2633,)]"
      ]
     },
     "execution_count": 6,
     "metadata": {},
     "output_type": "execute_result"
    }
   ],
   "source": [
    "sql=\"select count(id) from df where has_gas='t' and cons_12m > 0\"\n",
    "cursor= connection.execute(sql)\n",
    "cursor.fetchall()"
   ]
  },
  {
   "cell_type": "markdown",
   "metadata": {},
   "source": [
    "### 3-How is the contract type related churn?\n"
   ]
  },
  {
   "cell_type": "code",
   "execution_count": 7,
   "metadata": {},
   "outputs": [
    {
     "data": {
      "text/plain": [
       "[(216,)]"
      ]
     },
     "execution_count": 7,
     "metadata": {},
     "output_type": "execute_result"
    }
   ],
   "source": [
    "sql=\"select count(id) from df where has_gas='t' and cons_12m > 0 and churn='1'\"\n",
    "cursor= connection.execute(sql)\n",
    "cursor.fetchall()"
   ]
  },
  {
   "cell_type": "code",
   "execution_count": 8,
   "metadata": {},
   "outputs": [
    {
     "data": {
      "text/plain": [
       "[(1,)]"
      ]
     },
     "execution_count": 8,
     "metadata": {},
     "output_type": "execute_result"
    }
   ],
   "source": [
    "sql=\"select count(id) from df where has_gas='t' and cons_12m =0 and churn='1'\"\n",
    "cursor= connection.execute(sql)\n",
    "cursor.fetchall()"
   ]
  },
  {
   "cell_type": "code",
   "execution_count": 9,
   "metadata": {},
   "outputs": [
    {
     "data": {
      "text/plain": [
       "[(1193,)]"
      ]
     },
     "execution_count": 9,
     "metadata": {},
     "output_type": "execute_result"
    }
   ],
   "source": [
    "sql=\"select count(id) from df where has_gas='f' and cons_12m > 0 and churn='1'\"\n",
    "cursor= connection.execute(sql)\n",
    "cursor.fetchall()"
   ]
  },
  {
   "cell_type": "markdown",
   "metadata": {},
   "source": [
    "> Most customers who are expected to churn are consuming electricity only without gas."
   ]
  },
  {
   "cell_type": "markdown",
   "metadata": {},
   "source": [
    "### 4-Which channel sales has the most churned customers\n"
   ]
  },
  {
   "cell_type": "code",
   "execution_count": 10,
   "metadata": {},
   "outputs": [
    {
     "data": {
      "text/plain": [
       "[('MISSING', 283),\n",
       " ('ewpakwlliwisiwduibdlfmalxowmwpci', 75),\n",
       " ('foosdfpfkusacimwkcsosbicdxkicaua', 820),\n",
       " ('lmkebamcaaclubfxadlmueccxoimlema', 103),\n",
       " ('usilxuppasemubllopkaafesmlibmsdf', 138)]"
      ]
     },
     "execution_count": 10,
     "metadata": {},
     "output_type": "execute_result"
    }
   ],
   "source": [
    "sql=\"select channel_sales, count(churn) from df where churn='1' group by channel_sales\"\n",
    "cursor= connection.execute(sql)\n",
    "cursor.fetchall()"
   ]
  },
  {
   "cell_type": "markdown",
   "metadata": {},
   "source": [
    "### 5-What is the average electricity and gas consumption in the last 12 months?"
   ]
  },
  {
   "cell_type": "code",
   "execution_count": 11,
   "metadata": {},
   "outputs": [
    {
     "data": {
      "text/plain": [
       "[(159220.2862522251, 28092.375325208817)]"
      ]
     },
     "execution_count": 11,
     "metadata": {},
     "output_type": "execute_result"
    }
   ],
   "source": [
    "sql=\"select avg(cons_12m), avg(cons_gas_12m) from df\"\n",
    "cursor= connection.execute(sql)\n",
    "cursor.fetchall()"
   ]
  },
  {
   "cell_type": "markdown",
   "metadata": {},
   "source": [
    "### 6-what is the average forecasted consupmtion in the next 12 months?\n"
   ]
  },
  {
   "cell_type": "code",
   "execution_count": 12,
   "metadata": {},
   "outputs": [
    {
     "data": {
      "text/plain": [
       "[(1868.614879501577,)]"
      ]
     },
     "execution_count": 12,
     "metadata": {},
     "output_type": "execute_result"
    }
   ],
   "source": [
    "sql=\"select avg(forecast_cons_12m) from df\"\n",
    "cursor= connection.execute(sql)\n",
    "cursor.fetchall()"
   ]
  },
  {
   "cell_type": "markdown",
   "metadata": {},
   "source": [
    "### 7-what is the average price off peak , mid peak and peak for 2015?\n"
   ]
  },
  {
   "cell_type": "code",
   "execution_count": 13,
   "metadata": {},
   "outputs": [
    {
     "data": {
      "text/plain": [
       "[(0.14102697259500283, 0.054630396898732635, 0.030496007458936835)]"
      ]
     },
     "execution_count": 13,
     "metadata": {},
     "output_type": "execute_result"
    }
   ],
   "source": [
    "sql=\"select avg(price_off_peak_var),avg(price_peak_var),avg(price_mid_peak_var) from price_data where price_date like '2015%' \"\n",
    "cursor= connection.execute(sql)\n",
    "cursor.fetchall()"
   ]
  },
  {
   "cell_type": "markdown",
   "metadata": {},
   "source": [
    "### 8-what is the average forcasted price for the upcoming year?\n"
   ]
  },
  {
   "cell_type": "code",
   "execution_count": 14,
   "metadata": {},
   "outputs": [
    {
     "data": {
      "text/plain": [
       "[(0.1372832656853303, 0.05049076721895273)]"
      ]
     },
     "execution_count": 14,
     "metadata": {},
     "output_type": "execute_result"
    }
   ],
   "source": [
    "sql=\"select avg(forecast_price_energy_off_peak),avg(forecast_price_energy_peak) from client_data\"\n",
    "cursor= connection.execute(sql)\n",
    "cursor.fetchall()"
   ]
  },
  {
   "cell_type": "markdown",
   "metadata": {},
   "source": [
    "### 9-what is the average net margin for each year?\n"
   ]
  },
  {
   "cell_type": "code",
   "execution_count": 15,
   "metadata": {},
   "outputs": [
    {
     "data": {
      "text/plain": [
       "[('2003', 355.8551282051282, 39),\n",
       " ('2004', 351.9516788321169, 137),\n",
       " ('2005', 340.03582010582005, 189),\n",
       " ('2006', 363.45027777777784, 36),\n",
       " ('2007', 239.51526315789474, 95),\n",
       " ('2008', 232.9225, 124),\n",
       " ('2009', 133.75652044609677, 2690),\n",
       " ('2010', 173.9144472152951, 3609),\n",
       " ('2011', 184.18236040609128, 2758),\n",
       " ('2012', 218.2361285097194, 3704),\n",
       " ('2013', 219.95328431372522, 1224),\n",
       " ('2014', 307.89, 1)]"
      ]
     },
     "execution_count": 15,
     "metadata": {},
     "output_type": "execute_result"
    }
   ],
   "source": [
    "sql=\"select substr(date_activ,1,4), avg(net_margin),count(id) from df group by substr(date_activ,1,4)\"\n",
    "cursor= connection.execute(sql)\n",
    "cursor.fetchall()"
   ]
  },
  {
   "cell_type": "markdown",
   "metadata": {},
   "source": [
    "### 10-what is the correlation between the year and churn \n"
   ]
  },
  {
   "cell_type": "code",
   "execution_count": 16,
   "metadata": {},
   "outputs": [
    {
     "data": {
      "text/plain": [
       "[('2003', 1, 4),\n",
       " ('2004', 1, 12),\n",
       " ('2005', 1, 10),\n",
       " ('2006', 1, 2),\n",
       " ('2007', 1, 2),\n",
       " ('2008', 1, 6),\n",
       " ('2009', 1, 209),\n",
       " ('2010', 1, 259),\n",
       " ('2011', 1, 272),\n",
       " ('2012', 1, 456),\n",
       " ('2013', 1, 187)]"
      ]
     },
     "execution_count": 16,
     "metadata": {},
     "output_type": "execute_result"
    }
   ],
   "source": [
    "sql=\"select substr(date_activ,1,4),churn,count(id) from client_data where churn='1' group by substr(date_activ,1,4)\"\n",
    "cursor= connection.execute(sql)\n",
    "cursor.fetchall()"
   ]
  },
  {
   "cell_type": "markdown",
   "metadata": {},
   "source": [
    "### 11-How is years of antiquity related to churn?"
   ]
  },
  {
   "cell_type": "code",
   "execution_count": 17,
   "metadata": {},
   "outputs": [
    {
     "data": {
      "text/plain": [
       "[(2, 3),\n",
       " (3, 329),\n",
       " (4, 472),\n",
       " (5, 200),\n",
       " (6, 339),\n",
       " (7, 42),\n",
       " (8, 5),\n",
       " (9, 1),\n",
       " (10, 4),\n",
       " (11, 12),\n",
       " (12, 11),\n",
       " (13, 1)]"
      ]
     },
     "execution_count": 17,
     "metadata": {},
     "output_type": "execute_result"
    }
   ],
   "source": [
    "sql=\"select num_years_antig ,count(id) from df where churn='1' group by num_years_antig \"\n",
    "cursor= connection.execute(sql)\n",
    "cursor.fetchall()"
   ]
  },
  {
   "cell_type": "markdown",
   "metadata": {},
   "source": [
    "# Conclusion:\n",
    "- 1419 customers are expected to churn.\n",
    "- Most of the customers are only having electricity contract type and a very small number of them are having gas contract type and so, most of the customers who are expected to churn are only consuming electricity.\n",
    "- \"foosdfpfkusacimwkcsosbicdxkicaua\" channel sales have the greatest number of customers who are expected to churn.\n",
    "- Average prices was calculated for 2015 only since we have the consumption data for each of the companies in it.\n",
    "- Average net margin sarting from 2009 increased with a very huge rate.\n",
    "- Contracts that got activated in 2012 have the highest expected churn number of customers.\n",
    "- Almost 95% from customers who are expected to churn spent less than 6 years with bcg.\n"
   ]
  }
 ],
 "metadata": {
  "kernelspec": {
   "display_name": "Python 3",
   "language": "python",
   "name": "python3"
  },
  "language_info": {
   "codemirror_mode": {
    "name": "ipython",
    "version": 3
   },
   "file_extension": ".py",
   "mimetype": "text/x-python",
   "name": "python",
   "nbconvert_exporter": "python",
   "pygments_lexer": "ipython3",
   "version": "3.7.6"
  }
 },
 "nbformat": 4,
 "nbformat_minor": 4
}
