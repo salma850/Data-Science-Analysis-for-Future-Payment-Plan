{
 "cells": [
  {
   "cell_type": "code",
   "execution_count": 1,
   "metadata": {},
   "outputs": [],
   "source": [
    "import sqlite3\n",
    "import matplotlib.pyplot as plt\n",
    "import pandas as pd\n",
    "connection = sqlite3.connect('data_db.db')"
   ]
  },
  {
   "cell_type": "markdown",
   "metadata": {},
   "source": [
    "# QUESTIONS:\n",
    "- 1-How many customers are expected to churn and how many of them are not?\n",
    "- 2-How many customers are having electricity, gas or both?\n",
    "- 3-How is the contract type related churn?\n",
    "- 4-Which channel sales has the most churn percentage\n",
    "- 5-What is the average consumption for the last year?\n",
    "- 6-what is the average forecasted consupmtion for the upcoming year?\n",
    "- 7-what is the average price off peak , mid peak and peak for 2015?\n",
    "- 8-what is the average forcasted price for the upcoming year?\n",
    "- 9-what is the average net margin?\n",
    "- 10-what is the correlation between the year and churn?\n",
    "- 11-How is years of antiquity related to churn?\n",
    "\n",
    "> We will answer these questions that might help us in visualzing and analyzing the data.\n",
    "\n"
   ]
  },
  {
   "cell_type": "markdown",
   "metadata": {},
   "source": [
    "### 1-How many customers are expected to churn and how many of them are not?\n"
   ]
  },
  {
   "cell_type": "code",
   "execution_count": 2,
   "metadata": {},
   "outputs": [
    {
     "ename": "OperationalError",
     "evalue": "no such table: df",
     "output_type": "error",
     "traceback": [
      "\u001b[1;31m---------------------------------------------------------------------------\u001b[0m",
      "\u001b[1;31mOperationalError\u001b[0m                          Traceback (most recent call last)",
      "\u001b[1;32m<ipython-input-2-f02948ffe008>\u001b[0m in \u001b[0;36m<module>\u001b[1;34m\u001b[0m\n\u001b[0;32m      1\u001b[0m \u001b[0msql\u001b[0m\u001b[1;33m=\u001b[0m\u001b[1;34m\"select count(id) from df where churn='0'\"\u001b[0m\u001b[1;33m\u001b[0m\u001b[1;33m\u001b[0m\u001b[0m\n\u001b[1;32m----> 2\u001b[1;33m \u001b[0mcursor\u001b[0m\u001b[1;33m=\u001b[0m \u001b[0mconnection\u001b[0m\u001b[1;33m.\u001b[0m\u001b[0mexecute\u001b[0m\u001b[1;33m(\u001b[0m\u001b[0msql\u001b[0m\u001b[1;33m)\u001b[0m\u001b[1;33m\u001b[0m\u001b[1;33m\u001b[0m\u001b[0m\n\u001b[0m\u001b[0;32m      3\u001b[0m \u001b[0mcursor\u001b[0m\u001b[1;33m.\u001b[0m\u001b[0mfetchall\u001b[0m\u001b[1;33m(\u001b[0m\u001b[1;33m)\u001b[0m\u001b[1;33m\u001b[0m\u001b[1;33m\u001b[0m\u001b[0m\n",
      "\u001b[1;31mOperationalError\u001b[0m: no such table: df"
     ]
    }
   ],
   "source": [
    "sql=\"select count(id) from df where churn='0'\"\n",
    "cursor= connection.execute(sql)\n",
    "cursor.fetchall()\n"
   ]
  },
  {
   "cell_type": "code",
   "execution_count": null,
   "metadata": {},
   "outputs": [],
   "source": [
    "sql=\"select count(id) from df where churn='1'\"\n",
    "cursor= connection.execute(sql)\n",
    "cursor.fetchall()"
   ]
  },
  {
   "cell_type": "markdown",
   "metadata": {},
   "source": [
    "### 2-How many customers are having electricity, gas or both?\n"
   ]
  },
  {
   "cell_type": "code",
   "execution_count": null,
   "metadata": {},
   "outputs": [],
   "source": [
    "sql=\"select count(id) from df where has_gas='t' and cons_12m = 0\"\n",
    "cursor= connection.execute(sql)\n",
    "cursor.fetchall()"
   ]
  },
  {
   "cell_type": "code",
   "execution_count": null,
   "metadata": {},
   "outputs": [],
   "source": [
    "sql=\"select count(id) from df where has_gas='f'\"\n",
    "cursor= connection.execute(sql)\n",
    "cursor.fetchall()"
   ]
  },
  {
   "cell_type": "code",
   "execution_count": null,
   "metadata": {},
   "outputs": [],
   "source": [
    "sql=\"select count(id) from df where has_gas='t' and cons_12m > 0\"\n",
    "cursor= connection.execute(sql)\n",
    "cursor.fetchall()"
   ]
  },
  {
   "cell_type": "markdown",
   "metadata": {},
   "source": [
    "### 3-How is the contract type related churn?\n"
   ]
  },
  {
   "cell_type": "code",
   "execution_count": null,
   "metadata": {},
   "outputs": [],
   "source": [
    "sql=\"select count(id) from df where has_gas='t' and cons_12m > 0 and churn='1'\"\n",
    "cursor= connection.execute(sql)\n",
    "cursor.fetchall()"
   ]
  },
  {
   "cell_type": "code",
   "execution_count": null,
   "metadata": {},
   "outputs": [],
   "source": [
    "sql=\"select count(id) from df where has_gas='t' and cons_12m =0 and churn='1'\"\n",
    "cursor= connection.execute(sql)\n",
    "cursor.fetchall()"
   ]
  },
  {
   "cell_type": "code",
   "execution_count": null,
   "metadata": {},
   "outputs": [],
   "source": [
    "sql=\"select count(id) from df where has_gas='f' and cons_12m > 0 and churn='1'\"\n",
    "cursor= connection.execute(sql)\n",
    "cursor.fetchall()"
   ]
  },
  {
   "cell_type": "markdown",
   "metadata": {},
   "source": [
    "> Most customers who are expected to churn are consuming electricity only without gas."
   ]
  },
  {
   "cell_type": "markdown",
   "metadata": {},
   "source": [
    "### 4-Which channel sales has the most churned customers\n"
   ]
  },
  {
   "cell_type": "code",
   "execution_count": null,
   "metadata": {},
   "outputs": [],
   "source": [
    "sql=\"select channel_sales, count(churn) from df where churn='1' group by channel_sales\"\n",
    "cursor= connection.execute(sql)\n",
    "cursor.fetchall()"
   ]
  },
  {
   "cell_type": "markdown",
   "metadata": {},
   "source": [
    "### 5-What is the average electricity ang gas consumption in the last 12 months?"
   ]
  },
  {
   "cell_type": "code",
   "execution_count": null,
   "metadata": {},
   "outputs": [],
   "source": [
    "sql=\"select avg(cons_12m), avg(cons_gas_12m) from df\"\n",
    "cursor= connection.execute(sql)\n",
    "cursor.fetchall()"
   ]
  },
  {
   "cell_type": "markdown",
   "metadata": {},
   "source": [
    "### 6-what is the average forecasted consupmtion in the last year?\n"
   ]
  },
  {
   "cell_type": "code",
   "execution_count": null,
   "metadata": {},
   "outputs": [],
   "source": [
    "sql=\"select avg(forecast_cons_12m) from df\"\n",
    "cursor= connection.execute(sql)\n",
    "cursor.fetchall()"
   ]
  },
  {
   "cell_type": "markdown",
   "metadata": {},
   "source": [
    "### 7-what is the average price off peak , mid peak and peak for 2015?\n"
   ]
  },
  {
   "cell_type": "code",
   "execution_count": null,
   "metadata": {},
   "outputs": [],
   "source": [
    "sql=\"select avg(price_off_peak_var),avg(price_peak_var),avg(price_mid_peak_var) from price_data where price_date like '2015%' \"\n",
    "cursor= connection.execute(sql)\n",
    "cursor.fetchall()"
   ]
  },
  {
   "cell_type": "markdown",
   "metadata": {},
   "source": [
    "### 8-what is the average forcasted price for the upcoming year?\n"
   ]
  },
  {
   "cell_type": "code",
   "execution_count": null,
   "metadata": {},
   "outputs": [],
   "source": [
    "sql=\"select avg(forecast_price_energy_off_peak),avg(forecast_price_energy_peak) from client_data\"\n",
    "cursor= connection.execute(sql)\n",
    "cursor.fetchall()"
   ]
  },
  {
   "cell_type": "markdown",
   "metadata": {},
   "source": [
    "### 9-what is the average net margin for each year?\n"
   ]
  },
  {
   "cell_type": "code",
   "execution_count": null,
   "metadata": {},
   "outputs": [],
   "source": [
    "sql=\"select substr(date_activ,1,4), avg(net_margin),count(id) from df group by substr(date_activ,1,4)\"\n",
    "cursor= connection.execute(sql)\n",
    "cursor.fetchall()"
   ]
  },
  {
   "cell_type": "markdown",
   "metadata": {},
   "source": [
    "### 10-what is the correlation between the year and churn \n"
   ]
  },
  {
   "cell_type": "code",
   "execution_count": null,
   "metadata": {},
   "outputs": [],
   "source": [
    "sql=\"select substr(date_activ,1,4),churn,count(id) from client_data where churn='1' group by substr(date_activ,1,4)\"\n",
    "cursor= connection.execute(sql)\n",
    "cursor.fetchall()"
   ]
  },
  {
   "cell_type": "markdown",
   "metadata": {},
   "source": [
    "### 11-How is years of antiquity related to churn?"
   ]
  },
  {
   "cell_type": "code",
   "execution_count": null,
   "metadata": {},
   "outputs": [],
   "source": [
    "sql=\"select num_years_antig ,count(id) from df where churn='1' group by num_years_antig \"\n",
    "cursor= connection.execute(sql)\n",
    "cursor.fetchall()"
   ]
  },
  {
   "cell_type": "markdown",
   "metadata": {},
   "source": [
    "# Conclusion:\n",
    "- 1419 customers are expected to churn.\n",
    "- Most of the customers are only having electricity contract type and a very small number of them are having gas contract type and so, most of the customers who are expected to churn are only consuming electricity.\n",
    "- \"foosdfpfkusacimwkcsosbicdxkicaua\" channel sales have the greatest number of customers who are expected to churn.\n",
    "- Average prices was calculated for 2015 only since we have the consumption data for each of the companies in it.\n",
    "- Average net margin sarting from 2009 increased with a very huge rate.\n",
    "- Contracts that got activated in 2012 have the highest expected churn number of customers.\n",
    "- Almost 95% from customers who are expected to churn spent less than 6 years with bcg.\n"
   ]
  }
 ],
 "metadata": {
  "kernelspec": {
   "display_name": "Python 3",
   "language": "python",
   "name": "python3"
  },
  "language_info": {
   "codemirror_mode": {
    "name": "ipython",
    "version": 3
   },
   "file_extension": ".py",
   "mimetype": "text/x-python",
   "name": "python",
   "nbconvert_exporter": "python",
   "pygments_lexer": "ipython3",
   "version": "3.7.6"
  }
 },
 "nbformat": 4,
 "nbformat_minor": 4
}
